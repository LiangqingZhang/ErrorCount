{
 "cells": [
  {
   "cell_type": "code",
   "execution_count": null,
   "id": "c3eaa202-64db-4d8e-aee3-27d047f0deea",
   "metadata": {},
   "outputs": [],
   "source": [
    "import pickle\n",
    "newres = pickle.load(open(\"data.pkl\",\"rb\"))\n",
    "model = Model(newres)\n",
    "a = model.forward(1)"
   ]
  }
 ],
 "metadata": {
  "kernelspec": {
   "display_name": "Python 3 (ipykernel)",
   "language": "python",
   "name": "python3"
  },
  "language_info": {
   "codemirror_mode": {
    "name": "ipython",
    "version": 3
   },
   "file_extension": ".py",
   "mimetype": "text/x-python",
   "name": "python",
   "nbconvert_exporter": "python",
   "pygments_lexer": "ipython3",
   "version": "3.9.7"
  }
 },
 "nbformat": 4,
 "nbformat_minor": 5
}
