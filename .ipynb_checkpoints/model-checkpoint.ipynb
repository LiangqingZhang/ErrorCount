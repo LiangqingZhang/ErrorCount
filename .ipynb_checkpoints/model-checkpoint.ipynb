{
 "cells": [
  {
   "cell_type": "code",
   "execution_count": 1,
   "id": "ac4eaf77-b5f2-4eb0-ae5c-75645cca4236",
   "metadata": {},
   "outputs": [],
   "source": [
    "import numpy as np\n",
    "import torch\n",
    "\n",
    "class Model():\n",
    "    def __init__(self,data):\n",
    "        self.data = data\n",
    "    \n",
    "    def build_model1(self,x):\n",
    "        result = -0.156+0.054*x[1]-0.006*x[1]**2+2.059*x[4]-0.813*x[1]*x[4]+0.088*(x[1]**2)*x[4]\n",
    "        result += 0.049*x[7]+0.047*x[8]+0.067*x[9]+0.132*x[10]\n",
    "        result += 0.046*x[11]+0.029*x[12]+0.013*x[13]+0.024*x[14]+0.03*x[15]+0.043*x[16]+0.052*x[17]+0.056*x[18]+0.052*x[18]+0.042*x[19]\n",
    "        result += 0.003*x[2]-0.024*x[3]+0.012*x[6]\n",
    "        return np.exp(result)-1\n",
    "\n",
    "    def build_model2(self,x):\n",
    "        result = 1.392-0.679*x[1]+0.075*x[1]**2-1.803*x[5]+0.496*x[1]*x[5]-0.057*(x[1]**2)*x[5]\n",
    "        result += 0.044*x[7]+0.02*x[8]+0.032*x[9]+0.118*x[10]\n",
    "        result += 0.047*x[11]+0.03*x[12]+0.012*x[13]+0.027*x[14]+0.039*x[15]+0.049*x[16]+0.053*x[17]+0.05*x[18]+0.038*x[18]+0.03*x[19]\n",
    "        result += 0.009*x[2]-0.023*x[3]+0.502*x[6]\n",
    "        return np.exp(result)-1\n",
    "    \n",
    "    def forward(self,modeltype):\n",
    "        ress = []\n",
    "        if(modeltype==1):\n",
    "            for e in self.data:\n",
    "                ress.append(self.build_model1(e))\n",
    "        else:\n",
    "            for e in self.data:\n",
    "                ress.append(self.build_model2(e))\n",
    "        return np.array(ress)\n",
    "        "
   ]
  },
  {
   "cell_type": "code",
   "execution_count": null,
   "id": "091e7fd6-cc72-4668-9dc1-0e9877488370",
   "metadata": {},
   "outputs": [],
   "source": []
  }
 ],
 "metadata": {
  "kernelspec": {
   "display_name": "Python 3 (ipykernel)",
   "language": "python",
   "name": "python3"
  },
  "language_info": {
   "codemirror_mode": {
    "name": "ipython",
    "version": 3
   },
   "file_extension": ".py",
   "mimetype": "text/x-python",
   "name": "python",
   "nbconvert_exporter": "python",
   "pygments_lexer": "ipython3",
   "version": "3.9.7"
  }
 },
 "nbformat": 4,
 "nbformat_minor": 5
}
